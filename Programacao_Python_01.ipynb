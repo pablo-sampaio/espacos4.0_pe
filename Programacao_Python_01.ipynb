{
  "nbformat": 4,
  "nbformat_minor": 0,
  "metadata": {
    "colab": {
      "name": "Python - Aula 01.ipynb",
      "provenance": [],
      "toc_visible": true,
      "authorship_tag": "ABX9TyNTgm+sHHkC9x4KqIetfWqx",
      "include_colab_link": true
    },
    "kernelspec": {
      "name": "python3",
      "display_name": "Python 3"
    },
    "language_info": {
      "name": "python"
    }
  },
  "cells": [
    {
      "cell_type": "markdown",
      "metadata": {
        "id": "view-in-github",
        "colab_type": "text"
      },
      "source": [
        "<a href=\"https://colab.research.google.com/github/pablo-sampaio/espacos4.0_pe/blob/main/Programacao_Python_01.ipynb\" target=\"_parent\"><img src=\"https://colab.research.google.com/assets/colab-badge.svg\" alt=\"Open In Colab\"/></a>"
      ]
    },
    {
      "cell_type": "markdown",
      "source": [
        "# Aula 01 - Introdução a Python"
      ],
      "metadata": {
        "id": "cKMFK1gKp8m0"
      }
    },
    {
      "cell_type": "code",
      "source": [
        "# Comando do sistema para baixar uma imagem para o \"computador\" do Colab (na nuvem)\n",
        "!wget https://github.com/pablo-sampaio/espacos4.0_pe/raw/main/logoE4.png"
      ],
      "metadata": {
        "colab": {
          "base_uri": "https://localhost:8080/"
        },
        "id": "G6w5VCuFXqSN",
        "outputId": "5abf778e-5fdc-4ed7-d3dd-ee5c681f02a8"
      },
      "execution_count": null,
      "outputs": [
        {
          "output_type": "stream",
          "name": "stdout",
          "text": [
            "--2022-08-04 00:36:55--  https://github.com/pablo-sampaio/e4_programacao/raw/main/logoE4.png\n",
            "Resolving github.com (github.com)... 140.82.113.4\n",
            "Connecting to github.com (github.com)|140.82.113.4|:443... connected.\n",
            "HTTP request sent, awaiting response... 302 Found\n",
            "Location: https://raw.githubusercontent.com/pablo-sampaio/e4_programacao/main/logoE4.png [following]\n",
            "--2022-08-04 00:36:55--  https://raw.githubusercontent.com/pablo-sampaio/e4_programacao/main/logoE4.png\n",
            "Resolving raw.githubusercontent.com (raw.githubusercontent.com)... 185.199.108.133, 185.199.109.133, 185.199.110.133, ...\n",
            "Connecting to raw.githubusercontent.com (raw.githubusercontent.com)|185.199.108.133|:443... connected.\n",
            "HTTP request sent, awaiting response... 200 OK\n",
            "Length: 212687 (208K) [image/png]\n",
            "Saving to: ‘logoE4.png’\n",
            "\n",
            "logoE4.png          100%[===================>] 207.70K  --.-KB/s    in 0.03s   \n",
            "\n",
            "2022-08-04 00:36:55 (6.65 MB/s) - ‘logoE4.png’ saved [212687/212687]\n",
            "\n"
          ]
        }
      ]
    },
    {
      "cell_type": "markdown",
      "source": [
        "## 1 - Notebooks Python\n",
        "\n",
        "Acessado como uma página web!\n",
        "\n",
        "Dividido em **células** de dois tipos:\n",
        "- **texto** formatado, como esta\n",
        "- **código** Python, como a próxima\n",
        "\n",
        "Você pode editar e criar livremente."
      ],
      "metadata": {
        "id": "bDxPN5ECtbVZ"
      }
    },
    {
      "cell_type": "code",
      "execution_count": null,
      "metadata": {
        "colab": {
          "base_uri": "https://localhost:8080/",
          "height": 281
        },
        "id": "npq7CJ1Qp7nF",
        "outputId": "64c2df88-9eb7-4b85-d813-3a698e33f851"
      },
      "outputs": [
        {
          "output_type": "display_data",
          "data": {
            "text/plain": [
              "<Figure size 432x288 with 1 Axes>"
            ],
            "image/png": "[encoded data removed]"
          },
          "metadata": {
            "needs_background": "light"
          }
        }
      ],
      "source": [
        "import numpy as np\n",
        "from matplotlib import pyplot as plt\n",
        "\n",
        "ys = 200 + np.random.randn(100)\n",
        "x = list(range(len(ys)))\n",
        "\n",
        "plt.plot(x, ys, '-')\n",
        "plt.fill_between(x, ys, 195, where=(ys > 195), facecolor='g', alpha=0.6)\n",
        "\n",
        "plt.title(\"Visualização de Exemplo\")\n",
        "plt.show()"
      ]
    },
    {
      "cell_type": "code",
      "source": [
        "print(\"Outra célula de código!\")\n",
        "print(\"Um trecho de programa simples.\")"
      ],
      "metadata": {
        "colab": {
          "base_uri": "https://localhost:8080/"
        },
        "id": "xWcXSsE70sIy",
        "outputId": "f8644925-a74d-40cf-cb61-546a22d47109"
      },
      "execution_count": null,
      "outputs": [
        {
          "output_type": "stream",
          "name": "stdout",
          "text": [
            "Outra célula de código!\n",
            "Um trecho de programa simples.\n"
          ]
        }
      ]
    },
    {
      "cell_type": "markdown",
      "source": [
        "### 1.1 Mais sobre as *células de código*\n"
      ],
      "metadata": {
        "id": "f5HEMcAIpJyf"
      }
    },
    {
      "cell_type": "markdown",
      "source": [
        "- Contem código Python *real*\n",
        "- Comandos especiais (iniciados com `!` ou `%`)\n",
        "- Você pode executar em qualquer ordem\n",
        "- Efeitos das células se acumulam\n",
        "- Último comando da célula é exibido na saída\n",
        "\n"
      ],
      "metadata": {
        "id": "TGkIH8q83QUR"
      }
    },
    {
      "cell_type": "markdown",
      "source": [
        "### 1.2 Mais sobre os notebooks\n",
        "\n"
      ],
      "metadata": {
        "id": "iIY7anPpVGS2"
      }
    },
    {
      "cell_type": "markdown",
      "source": [
        "***Um notebook inteiro é um \"programa\" intercalado com texto, e que você pode executar por partes!***\n",
        "\n",
        "Pode ser executado de diversas formas:\n",
        "- na sua máquina (com Jupyter Lab ou VS Code)\n",
        "- em serviços da nuvem (máquinas remotas)\n",
        "- **Google Colab(oratory)** é um desses serviços\n"
      ],
      "metadata": {
        "id": "r6Wo42tqVyhT"
      }
    },
    {
      "cell_type": "markdown",
      "source": [
        "### 1.3 Aplicações\n"
      ],
      "metadata": {
        "id": "mhySDXpy2-5B"
      }
    },
    {
      "cell_type": "markdown",
      "source": [
        "- Ensino\n",
        "- Análises de dados\n",
        "- Experimentos\n",
        "- IA\n",
        "- Rodar \"na nuvem\"\n"
      ],
      "metadata": {
        "id": "LiloNR413U-Z"
      }
    },
    {
      "cell_type": "markdown",
      "source": [
        "## 2 - Revisando um Pouco"
      ],
      "metadata": {
        "id": "7OHxIPZmC_vx"
      }
    },
    {
      "cell_type": "markdown",
      "source": [
        "Da aula anterior, lembre-se que, em Python temos que *importar bibliotecas* para usar certos tipos de *comandos* (funções e classes). \n",
        "\n",
        "Exemplos: biblioteca *turtle*, comandos `forward()`, `left()`, `circle()`, etc.\n",
        "\n",
        "Porém, uma séries de comandos mais básicos são fornecidos diretamente:\n",
        "- comandos de decisão\n",
        "- comandos de repetição\n",
        "- algumas funções básicas, ex.: `print()`"
      ],
      "metadata": {
        "id": "-0HiXzF5GqOH"
      }
    },
    {
      "cell_type": "code",
      "source": [
        "print(\"Esta mensagem vai aparecer na saída!!!\")\n",
        "if 0 > 0:\n",
        "  print(\"E esta outra!?\")\n",
        "  print(\"E mais esta?\")"
      ],
      "metadata": {
        "colab": {
          "base_uri": "https://localhost:8080/"
        },
        "id": "SuFijR4MDo4_",
        "outputId": "32cafd70-ea75-4fff-a448-e4bc9fd82db5"
      },
      "execution_count": null,
      "outputs": [
        {
          "output_type": "stream",
          "name": "stdout",
          "text": [
            "Esta mensagem vai aparecer na saída!!!\n"
          ]
        }
      ]
    },
    {
      "cell_type": "code",
      "source": [
        "# para cada valor de i variando de 0 a 5 (sem incluir o 5)\n",
        "for variavel in range(5):\n",
        "  print(\"Mensagem\")"
      ],
      "metadata": {
        "colab": {
          "base_uri": "https://localhost:8080/"
        },
        "id": "CAvEZPmjCGze",
        "outputId": "2622781a-0cdd-473a-8e76-e68fd162f527"
      },
      "execution_count": null,
      "outputs": [
        {
          "output_type": "stream",
          "name": "stdout",
          "text": [
            "Mensagem\n",
            "Mensagem\n",
            "Mensagem\n",
            "Mensagem\n",
            "Mensagem\n"
          ]
        }
      ]
    },
    {
      "cell_type": "markdown",
      "source": [
        "### 2.1 Erros de sintaxe\n",
        "\n",
        "Lembre-se que códigos Python têm um **formato exigente**!\n",
        "- não podem faltar certos símbolos, \n",
        "- não pode haver símbolos a mais!\n",
        "\n",
        "Testar algumas alterações no código anterior...\n"
      ],
      "metadata": {
        "id": "JKNxQ1h9G0F3"
      }
    },
    {
      "cell_type": "markdown",
      "source": [
        "## 3 - Variáveis"
      ],
      "metadata": {
        "id": "UEQtGUCIpz3F"
      }
    },
    {
      "cell_type": "markdown",
      "source": [
        "Como definimos na aula de Scratch: ***uma variável é um nome (identificador) associado a um valor***.\n",
        "\n",
        "`nome --> valor`\n",
        "\n",
        "Por isso, programar em uma linguagem de propósito geral depende, **em grande parte**, de você saber usar *variáveis*! \n",
        "\n",
        "Em Python, é simples criar variáveis:\n",
        "\n",
        "1. Você não precisa \"criar\" (declarar) a variável antes\n",
        "2. Basta dar um valor a ela, assim: `<nome_da_variável> = <valor>:`"
      ],
      "metadata": {
        "id": "bJYmIMvdEvqS"
      }
    },
    {
      "cell_type": "code",
      "source": [
        "\n",
        "variavel_numerica = 10\n",
        "variavel_texto = \"Um texto qualquer aqui\"\n",
        "\n",
        "variavel_numerica = 23\n"
      ],
      "metadata": {
        "id": "6v78_MphFl4z"
      },
      "execution_count": null,
      "outputs": []
    },
    {
      "cell_type": "code",
      "source": [
        "nome_cliente = \"Pablo A. S.\"\n",
        "\n",
        "print(nome_cliente)"
      ],
      "metadata": {
        "colab": {
          "base_uri": "https://localhost:8080/"
        },
        "id": "gFzm04Uu2O9G",
        "outputId": "7988bfc9-0d23-4b1d-d1a8-51a3ac007d8a"
      },
      "execution_count": null,
      "outputs": [
        {
          "output_type": "stream",
          "name": "stdout",
          "text": [
            "Pablo A. S.\n"
          ]
        }
      ]
    },
    {
      "cell_type": "code",
      "source": [
        "print(variavel_numerica)\n",
        "print(variavel_texto)"
      ],
      "metadata": {
        "colab": {
          "base_uri": "https://localhost:8080/"
        },
        "id": "d3WVAEwI1r3Y",
        "outputId": "185dcc54-ea93-4161-c1c1-2623e280fd1d"
      },
      "execution_count": null,
      "outputs": [
        {
          "output_type": "stream",
          "name": "stdout",
          "text": [
            "23\n",
            "Um texto qualquer aqui\n"
          ]
        }
      ]
    },
    {
      "cell_type": "markdown",
      "source": [
        "Acima temos o que chamamos de **comandos de atribuição**. Eles atribuem um valor à variável.\n",
        "\n",
        "***ATENÇÃO***: \n",
        "- O valor da direita é calculado e \"guardado\" na variável da esquerda.\n",
        "- Não se trata da igualdade da Matemática! \n",
        "- Mas o nome da variável pode ser usado para se referir ao valor"
      ],
      "metadata": {
        "id": "f8g7cMLZHg2S"
      }
    },
    {
      "cell_type": "code",
      "source": [
        "print(variavel_numerica)\n",
        "print(variavel_texto)"
      ],
      "metadata": {
        "colab": {
          "base_uri": "https://localhost:8080/"
        },
        "id": "DNR64UFvMXy1",
        "outputId": "1b55027e-1e16-410e-b742-6f44ce219eed"
      },
      "execution_count": null,
      "outputs": [
        {
          "output_type": "stream",
          "name": "stdout",
          "text": [
            "23\n",
            "Um texto qualquer aqui\n"
          ]
        }
      ]
    },
    {
      "cell_type": "code",
      "source": [
        "# comando print com vários parâmetros\n",
        "print(\"Valor da variavel_numerica:\", variavel_numerica)"
      ],
      "metadata": {
        "colab": {
          "base_uri": "https://localhost:8080/"
        },
        "id": "c6GaXq2oMsoc",
        "outputId": "98a8812a-95a6-4948-c78b-5233004926f3"
      },
      "execution_count": null,
      "outputs": [
        {
          "output_type": "stream",
          "name": "stdout",
          "text": [
            "Valor da variavel_numerica: 23\n"
          ]
        }
      ]
    },
    {
      "cell_type": "markdown",
      "source": [
        "### 3.1 Armazenamento e Tipos de Dados"
      ],
      "metadata": {
        "id": "wiiNz2k0IO_f"
      }
    },
    {
      "cell_type": "markdown",
      "source": [
        "O que chamamos de *valor* de uma variável é um **dado** guardado na memória **RAM**, normalmente.\n",
        "\n",
        "Em Python, podemos ter dados de vários formatos: *número*, *texto*, *imagem*, *tabela*, etc.\n",
        "- muda a forma interna de representar\n",
        "- mudam as operações\n",
        "\n",
        "Vamos ver alguns tipos de dados..."
      ],
      "metadata": {
        "id": "e0PLtvFsIk4W"
      }
    },
    {
      "cell_type": "markdown",
      "source": [
        "### 3.2 Regras para Nomes (Identificadores)"
      ],
      "metadata": {
        "id": "pfH0zDUFKvDk"
      }
    },
    {
      "cell_type": "markdown",
      "source": [
        "Algumas regras que os nomes (identificadores) das variáveis precisam seguir:\n",
        "- existe diferença entre maiúscula e minúscula\n",
        "- pode mesclar letras (`a-z` ou `A-Z`) e dígitos (`0-9`) e underline (`_`)\n",
        "- mas não pode iniciar com dígito\n",
        "- e não pode ser igual a certos nomes especiais, chamados \"palavras-chaves\" (*keywords*), ex.: `if`, `for`, `True`, `False`, `def`, etc."
      ],
      "metadata": {
        "id": "th9xfcP_Kx7r"
      }
    },
    {
      "cell_type": "markdown",
      "source": [
        "## 4 - Dados Textuais (Strings)\n"
      ],
      "metadata": {
        "id": "vk9CMc8D0fqf"
      }
    },
    {
      "cell_type": "markdown",
      "source": [
        "Representam um texto que pode ter qualquer símbolo do teclado (e outros mais).\n",
        "\n",
        "O início e o fim desse dado é delimitado por:\n",
        "- aspas duplas `\"`\n",
        "- ou aspas simples `'`"
      ],
      "metadata": {
        "id": "24lwH__pEbzv"
      }
    },
    {
      "cell_type": "code",
      "source": [
        "x = \"Texto  8419837421 9)(*)(*¨&%& entre aspas.\"\n",
        "print(x)"
      ],
      "metadata": {
        "id": "FRS-TkyfqZaU",
        "colab": {
          "base_uri": "https://localhost:8080/"
        },
        "outputId": "89bbda99-4868-4e90-8cc9-7c05346763fb"
      },
      "execution_count": null,
      "outputs": [
        {
          "output_type": "stream",
          "name": "stdout",
          "text": [
            "Texto  8419837421 9)(*)(*¨&%& entre aspas.\n"
          ]
        }
      ]
    },
    {
      "cell_type": "markdown",
      "source": [
        "### 4.1 Lendo Entrada do Teclado\n"
      ],
      "metadata": {
        "id": "flK3OVGbCgVb"
      }
    },
    {
      "cell_type": "markdown",
      "source": [
        "Podemos ler uma entrada textual fornecida pelo teclado, dessa forma:\n",
        "\n",
        "`<variável> = input( <mensagem> )`."
      ],
      "metadata": {
        "id": "a38Pi10-C8Xg"
      }
    },
    {
      "cell_type": "code",
      "source": [
        "texto_digitado = input(\"Digite algum texto com maiúsculas e minúsculas: \") "
      ],
      "metadata": {
        "colab": {
          "base_uri": "https://localhost:8080/"
        },
        "id": "1Gm05HZVC20w",
        "outputId": "a71b6e1a-5b0f-4d94-8b14-630e1da9908c"
      },
      "execution_count": null,
      "outputs": [
        {
          "name": "stdout",
          "output_type": "stream",
          "text": [
            "Digite algum texto com maiúsculas e minúsculas: Programando em PYTHON\n"
          ]
        }
      ]
    },
    {
      "cell_type": "code",
      "source": [
        "print(\"Veja o que você digitou:\")\n",
        "print(texto_digitado)"
      ],
      "metadata": {
        "colab": {
          "base_uri": "https://localhost:8080/"
        },
        "id": "IjiHJlVjEwjg",
        "outputId": "a8c65b50-87fb-4edf-fae3-75b8b2ed4f11"
      },
      "execution_count": null,
      "outputs": [
        {
          "output_type": "stream",
          "name": "stdout",
          "text": [
            "Veja o que você digitou:\n",
            "Programando em PYTHON\n"
          ]
        }
      ]
    },
    {
      "cell_type": "markdown",
      "source": [
        "### 4.2 Operações\n",
        "\n"
      ],
      "metadata": {
        "id": "YwCwX-A_efTn"
      }
    },
    {
      "cell_type": "markdown",
      "source": [
        "Duas operações importantes:\n",
        "- tamanho da string: `len(<string>)`\n",
        "- concatenar strings: `<string1> + <string2>`"
      ],
      "metadata": {
        "id": "xn-sgVmMNc97"
      }
    },
    {
      "cell_type": "code",
      "source": [
        "tamanho = len(\"Programação $ $ $ $             \")\n",
        "print(tamanho)"
      ],
      "metadata": {
        "colab": {
          "base_uri": "https://localhost:8080/"
        },
        "id": "t4rSnFwtU6Uh",
        "outputId": "0f636f4a-1b34-4ebd-fb98-7cc4000ea80b"
      },
      "execution_count": null,
      "outputs": [
        {
          "output_type": "stream",
          "name": "stdout",
          "text": [
            "32\n"
          ]
        }
      ]
    },
    {
      "cell_type": "code",
      "source": [
        "assunto = \"Programação\"\n",
        "print( len(assunto) )\n",
        "print( len(\"assunto\") )"
      ],
      "metadata": {
        "colab": {
          "base_uri": "https://localhost:8080/"
        },
        "id": "ZcpSo26XVEhD",
        "outputId": "6fcb5cc4-1f9c-4efd-efaf-e73ed07a854c"
      },
      "execution_count": null,
      "outputs": [
        {
          "output_type": "stream",
          "name": "stdout",
          "text": [
            "11\n",
            "7\n"
          ]
        }
      ]
    },
    {
      "cell_type": "code",
      "source": [
        "#y = \"Programa \" + \"Python\" \n",
        "#print(y)"
      ],
      "metadata": {
        "id": "V29OqubgNvzs"
      },
      "execution_count": null,
      "outputs": []
    },
    {
      "cell_type": "code",
      "source": [
        "print(\"Programação\" + \" em Python\")"
      ],
      "metadata": {
        "colab": {
          "base_uri": "https://localhost:8080/"
        },
        "id": "OwqQugzdU8Op",
        "outputId": "87a943b9-9292-497c-9eb2-5132c5c4c040"
      },
      "execution_count": null,
      "outputs": [
        {
          "output_type": "stream",
          "name": "stdout",
          "text": [
            "Programação em Python\n"
          ]
        }
      ]
    },
    {
      "cell_type": "markdown",
      "source": [
        "Converter para minúscula/maiúscula: `<variável>.lower()` e `<variável>.upper()`\n",
        "\n",
        "Observação: \n",
        "- o ponto `.` dá a ideia de que está sendo acessado algo \"interno\"\n",
        "- estas operações são métodos: funções que operam \"dentro\" das strings"
      ],
      "metadata": {
        "id": "falOBGOONdgK"
      }
    },
    {
      "cell_type": "code",
      "source": [
        "print(texto_digitado)"
      ],
      "metadata": {
        "colab": {
          "base_uri": "https://localhost:8080/"
        },
        "id": "A2OFxoyf8i7N",
        "outputId": "133bd798-1776-403c-e412-c9abd2e1483e"
      },
      "execution_count": null,
      "outputs": [
        {
          "output_type": "stream",
          "name": "stdout",
          "text": [
            "Programando em PYTHON\n"
          ]
        }
      ]
    },
    {
      "cell_type": "code",
      "source": [
        "texto_maiuscula = texto_digitado.lower()\n",
        "texto_minuscula = texto_digitado.upper()\n",
        "\n",
        "print(texto_maiuscula)\n",
        "print(texto_minuscula)"
      ],
      "metadata": {
        "colab": {
          "base_uri": "https://localhost:8080/"
        },
        "id": "cMtUiT7Odt-P",
        "outputId": "c4ceb4cf-b5fe-45e4-d9d9-0c3657016cbf"
      },
      "execution_count": null,
      "outputs": [
        {
          "output_type": "stream",
          "name": "stdout",
          "text": [
            "programando em python\n",
            "PROGRAMANDO EM PYTHON\n"
          ]
        }
      ]
    },
    {
      "cell_type": "code",
      "source": [
        "texto_digitado.find(\"PY\")\n"
      ],
      "metadata": {
        "colab": {
          "base_uri": "https://localhost:8080/"
        },
        "id": "3IzlmD729LGk",
        "outputId": "7b1e75ce-81e9-46af-9011-a7c4e0d3287d"
      },
      "execution_count": null,
      "outputs": [
        {
          "output_type": "execute_result",
          "data": {
            "text/plain": [
              "15"
            ]
          },
          "metadata": {},
          "execution_count": 20
        }
      ]
    },
    {
      "cell_type": "markdown",
      "source": [
        "Comparações de igualdade (`==`) e diferente (`!=`)."
      ],
      "metadata": {
        "id": "fZ6FD7LZFezw"
      }
    },
    {
      "cell_type": "code",
      "source": [
        "# atribuindo valor\n",
        "y = \"Olá mundo\""
      ],
      "metadata": {
        "id": "XaDQgZj49yd7"
      },
      "execution_count": null,
      "outputs": []
    },
    {
      "cell_type": "code",
      "source": [
        "y != \"Olá mundo\""
      ],
      "metadata": {
        "colab": {
          "base_uri": "https://localhost:8080/"
        },
        "id": "N4H-tmkE-HrV",
        "outputId": "93d192cd-d606-426f-e54b-106894a1f36a"
      },
      "execution_count": null,
      "outputs": [
        {
          "output_type": "execute_result",
          "data": {
            "text/plain": [
              "False"
            ]
          },
          "metadata": {},
          "execution_count": 22
        }
      ]
    },
    {
      "cell_type": "code",
      "source": [
        "if y == \"Olá mundo\":\n",
        "  print(\"É igual!\")\n",
        "else:\n",
        "  print(\"Diferente!\")"
      ],
      "metadata": {
        "colab": {
          "base_uri": "https://localhost:8080/"
        },
        "id": "4BfMsbMAFd6A",
        "outputId": "419ee349-e1f9-4bd6-8872-3c243cd69168"
      },
      "execution_count": null,
      "outputs": [
        {
          "output_type": "stream",
          "name": "stdout",
          "text": [
            "É igual!\n"
          ]
        }
      ]
    },
    {
      "cell_type": "code",
      "source": [
        "z = \"Olá mundo\""
      ],
      "metadata": {
        "id": "dl1Ols1r-ToQ"
      },
      "execution_count": null,
      "outputs": []
    },
    {
      "cell_type": "code",
      "source": [
        "\"Olá mundo\" == \"Olá mundo\""
      ],
      "metadata": {
        "colab": {
          "base_uri": "https://localhost:8080/"
        },
        "id": "mmmNu_wXFnwH",
        "outputId": "bec29da6-2bf9-4700-eac9-77212490b4b8"
      },
      "execution_count": null,
      "outputs": [
        {
          "output_type": "execute_result",
          "data": {
            "text/plain": [
              "True"
            ]
          },
          "metadata": {},
          "execution_count": 25
        }
      ]
    },
    {
      "cell_type": "markdown",
      "source": [
        "Veja mais operações em: https://www.w3schools.com/python/python_ref_string.asp"
      ],
      "metadata": {
        "id": "P2IgTbW_ffVq"
      }
    },
    {
      "cell_type": "markdown",
      "source": [
        "### 4.3 Usos\n",
        "- esse tipo de dado representa nomes de pessoas, endereços, etc.\n",
        "- você pode carregar esse dado de um arquivo de texto simples (`.txt`)\n",
        "- ou de uma planilha\n",
        "- ou ler de um banco de dados de comentários de um site\n",
        "- e aplicar \"análise de sentimentos\"\n",
        "- fazer previsões (IA)\n",
        "- autocompletar textos (IA)\n",
        "- transformar em sons (IA)"
      ],
      "metadata": {
        "id": "0V9tYPbec0rv"
      }
    },
    {
      "cell_type": "markdown",
      "source": [
        "## 5 - Dados Numéricos\n"
      ],
      "metadata": {
        "id": "pW45cnoSBW7a"
      }
    },
    {
      "cell_type": "markdown",
      "source": [
        "Vamos ver dois tipos numéricos:"
      ],
      "metadata": {
        "id": "ve0pP4-CcFki"
      }
    },
    {
      "cell_type": "markdown",
      "source": [
        "### 5.1 Números **Inteiros**\n",
        "\n",
        "- Sem casa decimal (não use `.0`). \n",
        "- Incluem os negativos."
      ],
      "metadata": {
        "id": "NbpIz44WPMYz"
      }
    },
    {
      "cell_type": "code",
      "source": [
        "# Exemplo: calculando o total de alunos de uma escola\n",
        "alunos_por_turma = 50\n",
        "turmas = 30\n",
        "\n",
        "total_alunos = alunos_por_turma * turmas\n",
        "\n",
        "print(\"TOTAL DE ALUNOS:\", total_alunos)"
      ],
      "metadata": {
        "colab": {
          "base_uri": "https://localhost:8080/"
        },
        "id": "s7jpetKcN4Hj",
        "outputId": "37e78d2b-3228-435f-f1f1-5113ff202f5a"
      },
      "execution_count": null,
      "outputs": [
        {
          "output_type": "stream",
          "name": "stdout",
          "text": [
            "TOTAL DE ALUNOS: 1500\n"
          ]
        }
      ]
    },
    {
      "cell_type": "markdown",
      "source": [
        "### 5.2 Números de **Ponto Flutuante** (float)"
      ],
      "metadata": {
        "id": "tOZhwKRV0xR7"
      }
    },
    {
      "cell_type": "markdown",
      "source": [
        "\n",
        "- possuem casa decimal, separada por ponto (`.`)\n",
        "- podem ser negativos\n",
        "- um pouco mais lentos de serem processados"
      ],
      "metadata": {
        "id": "rDl067bdN41E"
      }
    },
    {
      "cell_type": "code",
      "source": [
        "preco = 105.40\n",
        "pessoas = 40\n",
        "\n",
        "print(preco * pessoas)"
      ],
      "metadata": {
        "id": "onW3UAW1OjI-",
        "colab": {
          "base_uri": "https://localhost:8080/"
        },
        "outputId": "d5af3993-29b7-44f9-e558-79994f838740"
      },
      "execution_count": null,
      "outputs": [
        {
          "output_type": "stream",
          "name": "stdout",
          "text": [
            "4216.0\n"
          ]
        }
      ]
    },
    {
      "cell_type": "markdown",
      "source": [
        "### 5.3 Operações\n",
        "\n",
        "Python oferece várias operações com números:\n",
        "- adição (`+`), subtração (`-`), multiplicação (`*`) e divisão (`/`)\n",
        "- exponenciação (`**`), divisão inteira (`//`), resto da divisão inteira (`%`)\n"
      ],
      "metadata": {
        "id": "PzJ2VGMgSpEj"
      }
    },
    {
      "cell_type": "code",
      "source": [
        "print(1 + 2)\n",
        "print(50 * 5.48)"
      ],
      "metadata": {
        "colab": {
          "base_uri": "https://localhost:8080/"
        },
        "id": "LkVcONkc33uq",
        "outputId": "929cc151-cff1-44f2-8745-fea7fe1f1846"
      },
      "execution_count": null,
      "outputs": [
        {
          "output_type": "stream",
          "name": "stdout",
          "text": [
            "3\n",
            "274.0\n"
          ]
        }
      ]
    },
    {
      "cell_type": "code",
      "source": [
        "print(2 // 10)"
      ],
      "metadata": {
        "colab": {
          "base_uri": "https://localhost:8080/"
        },
        "id": "zq7uMSxcA4xE",
        "outputId": "a126865c-0d36-4c79-8b06-a1a86e85a2f8"
      },
      "execution_count": null,
      "outputs": [
        {
          "output_type": "stream",
          "name": "stdout",
          "text": [
            "0\n"
          ]
        }
      ]
    },
    {
      "cell_type": "code",
      "source": [
        "x = 2\n",
        "y = x ** (-10)\n",
        "\n",
        "print(y)"
      ],
      "metadata": {
        "colab": {
          "base_uri": "https://localhost:8080/"
        },
        "id": "pCot_vAaBH29",
        "outputId": "07d91bcc-83c1-49ad-c725-dd359a5a746d"
      },
      "execution_count": null,
      "outputs": [
        {
          "output_type": "stream",
          "name": "stdout",
          "text": [
            "0.0009765625\n"
          ]
        }
      ]
    },
    {
      "cell_type": "markdown",
      "source": [
        "\n",
        "Você pode criar **expressões** aplicando vários desses operadores.\n",
        "\n",
        "Pode agrupar à vontade com parênteses `(` e `)`."
      ],
      "metadata": {
        "id": "hP_TmB-8KS3s"
      }
    },
    {
      "cell_type": "code",
      "source": [
        "x = 5\n",
        "((1 + x) * 3) ** 2"
      ],
      "metadata": {
        "colab": {
          "base_uri": "https://localhost:8080/"
        },
        "id": "8N2XeZ9VKX17",
        "outputId": "ee2ac1a3-d0d5-4bc5-98ba-b657eeb7d719"
      },
      "execution_count": null,
      "outputs": [
        {
          "output_type": "execute_result",
          "data": {
            "text/plain": [
              "324"
            ]
          },
          "metadata": {},
          "execution_count": 31
        }
      ]
    },
    {
      "cell_type": "code",
      "source": [
        "y = (1 + 2) * 3"
      ],
      "metadata": {
        "id": "lhuEV_iNBp8G"
      },
      "execution_count": null,
      "outputs": []
    },
    {
      "cell_type": "code",
      "source": [
        "print(x)\n",
        "print(y)"
      ],
      "metadata": {
        "colab": {
          "base_uri": "https://localhost:8080/"
        },
        "id": "k8adwPkPCODG",
        "outputId": "53e2fc00-ac3e-40c4-e911-a1413de20177"
      },
      "execution_count": null,
      "outputs": [
        {
          "output_type": "stream",
          "name": "stdout",
          "text": [
            "5\n",
            "9\n"
          ]
        }
      ]
    },
    {
      "cell_type": "code",
      "source": [
        "if x > y:\n",
        "  print(\"sim!\")\n",
        "else:\n",
        "  print(\"não\")"
      ],
      "metadata": {
        "colab": {
          "base_uri": "https://localhost:8080/"
        },
        "id": "axuMpvC-B5R7",
        "outputId": "24d6c7c4-f947-442f-c8b8-a322db8754da"
      },
      "execution_count": null,
      "outputs": [
        {
          "output_type": "stream",
          "name": "stdout",
          "text": [
            "não\n"
          ]
        }
      ]
    },
    {
      "cell_type": "markdown",
      "source": [
        "Comparações:\n",
        "- igual (`==`)\n",
        "- diferente (`!=`)\n",
        "- menor (`<`), menor ou igual (`<=`)"
      ],
      "metadata": {
        "id": "4SwoBMn03zzS"
      }
    },
    {
      "cell_type": "markdown",
      "source": [
        "### 5.4 Lendo Entradas do Teclado"
      ],
      "metadata": {
        "id": "gV6a_MKt33Gi"
      }
    },
    {
      "cell_type": "markdown",
      "source": [
        "Você pode ler entradas com `input()`.\n",
        "\n",
        "Mas ele vai retornar sempre um *dado textual*, que vamos precisar converter.\n",
        "- `int(<texto>)` converte para inteiro\n",
        "- `float(<texto>)` converte para ponto flutuante"
      ],
      "metadata": {
        "id": "TOEFL6OULSB8"
      }
    },
    {
      "cell_type": "code",
      "source": [
        "idade = input(\"Digite a idade: \")\n",
        "idade_int = int(idade)\n",
        "\n",
        "preco_gasolina = input(\"Digite o preço da gasolina: \")\n",
        "preco_gasolina_float = float(preco_gasolina)"
      ],
      "metadata": {
        "colab": {
          "base_uri": "https://localhost:8080/"
        },
        "id": "24B-gH3qIjMd",
        "outputId": "adbb7ef0-4a15-4356-dd5e-87ffe9d020d8"
      },
      "execution_count": null,
      "outputs": [
        {
          "name": "stdout",
          "output_type": "stream",
          "text": [
            "Digite a idade: 30\n",
            "Digite o preço da gasolina: 3.4\n"
          ]
        }
      ]
    },
    {
      "cell_type": "markdown",
      "source": [
        "Abrir o inspetor de variáveis do Colab..."
      ],
      "metadata": {
        "id": "Ip5B0zcmM5rW"
      }
    },
    {
      "cell_type": "code",
      "source": [
        "print(4 * idade_int)\n",
        "print(4 * preco_gasolina_float)"
      ],
      "metadata": {
        "colab": {
          "base_uri": "https://localhost:8080/"
        },
        "id": "tDjiVziXL38S",
        "outputId": "0d1287fe-70ee-4a4f-ac1c-f610b4b14e40"
      },
      "execution_count": null,
      "outputs": [
        {
          "output_type": "stream",
          "name": "stdout",
          "text": [
            "120\n",
            "13.6\n"
          ]
        }
      ]
    },
    {
      "cell_type": "markdown",
      "source": [
        "### 5.5 Usos"
      ],
      "metadata": {
        "id": "UQIuoZCpI9h2"
      }
    },
    {
      "cell_type": "markdown",
      "source": [
        "Comente para fazer contas?\n",
        "\n",
        "São o **principal tipo de dado** que o computador pode processar.\n",
        "- os processadores têm várias operações específicas\n",
        "- imagem é uma matriz de números\n",
        "- simulações\n",
        "- computação gráfica (3D, iluminação, etc)\n",
        "- redes neurais da IA são várias matrizes numéricas\n"
      ],
      "metadata": {
        "id": "DqXwLJv5I6Gy"
      }
    },
    {
      "cell_type": "markdown",
      "source": [
        "## 6 - Outros Tipos de Dados"
      ],
      "metadata": {
        "id": "jAzgjE_2TnDb"
      }
    },
    {
      "cell_type": "markdown",
      "source": [
        "Existem vários outros *tipos de dados* que representam imagens, tabelas, sons, listas, etc. Tudo isso pode ser armazenado e processo por meio de variáveis! Muitos deles são **classes** que integram dados+operações. Classes podem ser importadas ou até criadas por você.\n",
        "\n",
        "Apenas para dar uma ideia, veja duas coisas que podemos armazenar e exibir importando as *classes* adequadas:\n",
        "\n",
        "**Imagens**"
      ],
      "metadata": {
        "id": "tinlJTWHTp0M"
      }
    },
    {
      "cell_type": "code",
      "source": [
        "from IPython.display import Image"
      ],
      "metadata": {
        "id": "dOv0pVtFUFm1"
      },
      "execution_count": null,
      "outputs": []
    },
    {
      "cell_type": "code",
      "source": [
        "variavel_imagem = Image(\"logoE4.png\")"
      ],
      "metadata": {
        "id": "GTD-EXrHj_np"
      },
      "execution_count": null,
      "outputs": []
    },
    {
      "cell_type": "markdown",
      "source": [
        "Colocando apenas esta variável na última linha de uma célula de código vai fazer ela ser exibida."
      ],
      "metadata": {
        "id": "aTbAPLhkSv_y"
      }
    },
    {
      "cell_type": "code",
      "source": [
        "variavel_imagem"
      ],
      "metadata": {
        "colab": {
          "base_uri": "https://localhost:8080/",
          "height": 327
        },
        "id": "zPm8ZmMljPa1",
        "outputId": "7ae7d46d-a5dc-4bca-8a8a-f985791f67b3"
      },
      "execution_count": null,
      "outputs": [
        {
          "output_type": "execute_result",
          "data": {
            "text/plain": [
              "<IPython.core.display.Image object>"
            ],
            "image/png": "[encoded data removed]"
          },
          "metadata": {},
          "execution_count": 39
        }
      ]
    },
    {
      "cell_type": "markdown",
      "source": [
        "**Tabelas**"
      ],
      "metadata": {
        "id": "OkSt93zWXJh_"
      }
    },
    {
      "cell_type": "code",
      "source": [
        "from pandas import read_csv, DataFrame"
      ],
      "metadata": {
        "id": "Tvm-L3hBkBzH"
      },
      "execution_count": null,
      "outputs": []
    },
    {
      "cell_type": "code",
      "source": [
        "variavel_tabela = read_csv('sample_data/california_housing_test.csv')"
      ],
      "metadata": {
        "id": "RSbejVZaTl79"
      },
      "execution_count": null,
      "outputs": []
    },
    {
      "cell_type": "markdown",
      "source": [
        "O comando abaixo, na última (única) linha da célula de código, vai exibir a tabela."
      ],
      "metadata": {
        "id": "zMIDVOG1SoK7"
      }
    },
    {
      "cell_type": "code",
      "source": [
        "variavel_tabela"
      ],
      "metadata": {
        "colab": {
          "base_uri": "https://localhost:8080/",
          "height": 488
        },
        "id": "_Cav03DDkHDl",
        "outputId": "7f3914a0-f2bc-43c9-bf4a-82d3c58b1bbb"
      },
      "execution_count": null,
      "outputs": [
        {
          "output_type": "execute_result",
          "data": {
            "text/plain": [
              "      longitude  latitude  housing_median_age  total_rooms  total_bedrooms  \\\n",
              "0       -122.05     37.37                27.0       3885.0           661.0   \n",
              "1       -118.30     34.26                43.0       1510.0           310.0   \n",
              "2       -117.81     33.78                27.0       3589.0           507.0   \n",
              "3       -118.36     33.82                28.0         67.0            15.0   \n",
              "4       -119.67     36.33                19.0       1241.0           244.0   \n",
              "...         ...       ...                 ...          ...             ...   \n",
              "2995    -119.86     34.42                23.0       1450.0           642.0   \n",
              "2996    -118.14     34.06                27.0       5257.0          1082.0   \n",
              "2997    -119.70     36.30                10.0        956.0           201.0   \n",
              "2998    -117.12     34.10                40.0         96.0            14.0   \n",
              "2999    -119.63     34.42                42.0       1765.0           263.0   \n",
              "\n",
              "      population  households  median_income  median_house_value  \n",
              "0         1537.0       606.0         6.6085            344700.0  \n",
              "1          809.0       277.0         3.5990            176500.0  \n",
              "2         1484.0       495.0         5.7934            270500.0  \n",
              "3           49.0        11.0         6.1359            330000.0  \n",
              "4          850.0       237.0         2.9375             81700.0  \n",
              "...          ...         ...            ...                 ...  \n",
              "2995      1258.0       607.0         1.1790            225000.0  \n",
              "2996      3496.0      1036.0         3.3906            237200.0  \n",
              "2997       693.0       220.0         2.2895             62000.0  \n",
              "2998        46.0        14.0         3.2708            162500.0  \n",
              "2999       753.0       260.0         8.5608            500001.0  \n",
              "\n",
              "[3000 rows x 9 columns]"
            ],
            "text/html": [
              "\n",
              "  <div id=\"df-f12ba931-7e50-4945-9e65-2062221e173e\">\n",
              "    <div class=\"colab-df-container\">\n",
              "      <div>\n",
              "<style scoped>\n",
              "    .dataframe tbody tr th:only-of-type {\n",
              "        vertical-align: middle;\n",
              "    }\n",
              "\n",
              "    .dataframe tbody tr th {\n",
              "        vertical-align: top;\n",
              "    }\n",
              "\n",
              "    .dataframe thead th {\n",
              "        text-align: right;\n",
              "    }\n",
              "</style>\n",
              "<table border=\"1\" class=\"dataframe\">\n",
              "  <thead>\n",
              "    <tr style=\"text-align: right;\">\n",
              "      <th></th>\n",
              "      <th>longitude</th>\n",
              "      <th>latitude</th>\n",
              "      <th>housing_median_age</th>\n",
              "      <th>total_rooms</th>\n",
              "      <th>total_bedrooms</th>\n",
              "      <th>population</th>\n",
              "      <th>households</th>\n",
              "      <th>median_income</th>\n",
              "      <th>median_house_value</th>\n",
              "    </tr>\n",
              "  </thead>\n",
              "  <tbody>\n",
              "    <tr>\n",
              "      <th>0</th>\n",
              "      <td>-122.05</td>\n",
              "      <td>37.37</td>\n",
              "      <td>27.0</td>\n",
              "      <td>3885.0</td>\n",
              "      <td>661.0</td>\n",
              "      <td>1537.0</td>\n",
              "      <td>606.0</td>\n",
              "      <td>6.6085</td>\n",
              "      <td>344700.0</td>\n",
              "    </tr>\n",
              "    <tr>\n",
              "      <th>1</th>\n",
              "      <td>-118.30</td>\n",
              "      <td>34.26</td>\n",
              "      <td>43.0</td>\n",
              "      <td>1510.0</td>\n",
              "      <td>310.0</td>\n",
              "      <td>809.0</td>\n",
              "      <td>277.0</td>\n",
              "      <td>3.5990</td>\n",
              "      <td>176500.0</td>\n",
              "    </tr>\n",
              "    <tr>\n",
              "      <th>2</th>\n",
              "      <td>-117.81</td>\n",
              "      <td>33.78</td>\n",
              "      <td>27.0</td>\n",
              "      <td>3589.0</td>\n",
              "      <td>507.0</td>\n",
              "      <td>1484.0</td>\n",
              "      <td>495.0</td>\n",
              "      <td>5.7934</td>\n",
              "      <td>270500.0</td>\n",
              "    </tr>\n",
              "    <tr>\n",
              "      <th>3</th>\n",
              "      <td>-118.36</td>\n",
              "      <td>33.82</td>\n",
              "      <td>28.0</td>\n",
              "      <td>67.0</td>\n",
              "      <td>15.0</td>\n",
              "      <td>49.0</td>\n",
              "      <td>11.0</td>\n",
              "      <td>6.1359</td>\n",
              "      <td>330000.0</td>\n",
              "    </tr>\n",
              "    <tr>\n",
              "      <th>4</th>\n",
              "      <td>-119.67</td>\n",
              "      <td>36.33</td>\n",
              "      <td>19.0</td>\n",
              "      <td>1241.0</td>\n",
              "      <td>244.0</td>\n",
              "      <td>850.0</td>\n",
              "      <td>237.0</td>\n",
              "      <td>2.9375</td>\n",
              "      <td>81700.0</td>\n",
              "    </tr>\n",
              "    <tr>\n",
              "      <th>...</th>\n",
              "      <td>...</td>\n",
              "      <td>...</td>\n",
              "      <td>...</td>\n",
              "      <td>...</td>\n",
              "      <td>...</td>\n",
              "      <td>...</td>\n",
              "      <td>...</td>\n",
              "      <td>...</td>\n",
              "      <td>...</td>\n",
              "    </tr>\n",
              "    <tr>\n",
              "      <th>2995</th>\n",
              "      <td>-119.86</td>\n",
              "      <td>34.42</td>\n",
              "      <td>23.0</td>\n",
              "      <td>1450.0</td>\n",
              "      <td>642.0</td>\n",
              "      <td>1258.0</td>\n",
              "      <td>607.0</td>\n",
              "      <td>1.1790</td>\n",
              "      <td>225000.0</td>\n",
              "    </tr>\n",
              "    <tr>\n",
              "      <th>2996</th>\n",
              "      <td>-118.14</td>\n",
              "      <td>34.06</td>\n",
              "      <td>27.0</td>\n",
              "      <td>5257.0</td>\n",
              "      <td>1082.0</td>\n",
              "      <td>3496.0</td>\n",
              "      <td>1036.0</td>\n",
              "      <td>3.3906</td>\n",
              "      <td>237200.0</td>\n",
              "    </tr>\n",
              "    <tr>\n",
              "      <th>2997</th>\n",
              "      <td>-119.70</td>\n",
              "      <td>36.30</td>\n",
              "      <td>10.0</td>\n",
              "      <td>956.0</td>\n",
              "      <td>201.0</td>\n",
              "      <td>693.0</td>\n",
              "      <td>220.0</td>\n",
              "      <td>2.2895</td>\n",
              "      <td>62000.0</td>\n",
              "    </tr>\n",
              "    <tr>\n",
              "      <th>2998</th>\n",
              "      <td>-117.12</td>\n",
              "      <td>34.10</td>\n",
              "      <td>40.0</td>\n",
              "      <td>96.0</td>\n",
              "      <td>14.0</td>\n",
              "      <td>46.0</td>\n",
              "      <td>14.0</td>\n",
              "      <td>3.2708</td>\n",
              "      <td>162500.0</td>\n",
              "    </tr>\n",
              "    <tr>\n",
              "      <th>2999</th>\n",
              "      <td>-119.63</td>\n",
              "      <td>34.42</td>\n",
              "      <td>42.0</td>\n",
              "      <td>1765.0</td>\n",
              "      <td>263.0</td>\n",
              "      <td>753.0</td>\n",
              "      <td>260.0</td>\n",
              "      <td>8.5608</td>\n",
              "      <td>500001.0</td>\n",
              "    </tr>\n",
              "  </tbody>\n",
              "</table>\n",
              "<p>3000 rows × 9 columns</p>\n",
              "</div>\n",
              "      <button class=\"colab-df-convert\" onclick=\"convertToInteractive('df-f12ba931-7e50-4945-9e65-2062221e173e')\"\n",
              "              title=\"Convert this dataframe to an interactive table.\"\n",
              "              style=\"display:none;\">\n",
              "        \n",
              "  <svg xmlns=\"http://www.w3.org/2000/svg\" height=\"24px\"viewBox=\"0 0 24 24\"\n",
              "       width=\"24px\">\n",
              "    <path d=\"M0 0h24v24H0V0z\" fill=\"none\"/>\n",
              "    <path d=\"M18.56 5.44l.94 2.06.94-2.06 2.06-.94-2.06-.94-.94-2.06-.94 2.06-2.06.94zm-11 1L8.5 8.5l.94-2.06 2.06-.94-2.06-.94L8.5 2.5l-.94 2.06-2.06.94zm10 10l.94 2.06.94-2.06 2.06-.94-2.06-.94-.94-2.06-.94 2.06-2.06.94z\"/><path d=\"M17.41 7.96l-1.37-1.37c-.4-.4-.92-.59-1.43-.59-.52 0-1.04.2-1.43.59L10.3 9.45l-7.72 7.72c-.78.78-.78 2.05 0 2.83L4 21.41c.39.39.9.59 1.41.59.51 0 1.02-.2 1.41-.59l7.78-7.78 2.81-2.81c.8-.78.8-2.07 0-2.86zM5.41 20L4 18.59l7.72-7.72 1.47 1.35L5.41 20z\"/>\n",
              "  </svg>\n",
              "      </button>\n",
              "      \n",
              "  <style>\n",
              "    .colab-df-container {\n",
              "      display:flex;\n",
              "      flex-wrap:wrap;\n",
              "      gap: 12px;\n",
              "    }\n",
              "\n",
              "    .colab-df-convert {\n",
              "      background-color: #E8F0FE;\n",
              "      border: none;\n",
              "      border-radius: 50%;\n",
              "      cursor: pointer;\n",
              "      display: none;\n",
              "      fill: #1967D2;\n",
              "      height: 32px;\n",
              "      padding: 0 0 0 0;\n",
              "      width: 32px;\n",
              "    }\n",
              "\n",
              "    .colab-df-convert:hover {\n",
              "      background-color: #E2EBFA;\n",
              "      box-shadow: 0px 1px 2px rgba(60, 64, 67, 0.3), 0px 1px 3px 1px rgba(60, 64, 67, 0.15);\n",
              "      fill: #174EA6;\n",
              "    }\n",
              "\n",
              "    [theme=dark] .colab-df-convert {\n",
              "      background-color: #3B4455;\n",
              "      fill: #D2E3FC;\n",
              "    }\n",
              "\n",
              "    [theme=dark] .colab-df-convert:hover {\n",
              "      background-color: #434B5C;\n",
              "      box-shadow: 0px 1px 3px 1px rgba(0, 0, 0, 0.15);\n",
              "      filter: drop-shadow(0px 1px 2px rgba(0, 0, 0, 0.3));\n",
              "      fill: #FFFFFF;\n",
              "    }\n",
              "  </style>\n",
              "\n",
              "      <script>\n",
              "        const buttonEl =\n",
              "          document.querySelector('#df-f12ba931-7e50-4945-9e65-2062221e173e button.colab-df-convert');\n",
              "        buttonEl.style.display =\n",
              "          google.colab.kernel.accessAllowed ? 'block' : 'none';\n",
              "\n",
              "        async function convertToInteractive(key) {\n",
              "          const element = document.querySelector('#df-f12ba931-7e50-4945-9e65-2062221e173e');\n",
              "          const dataTable =\n",
              "            await google.colab.kernel.invokeFunction('convertToInteractive',\n",
              "                                                     [key], {});\n",
              "          if (!dataTable) return;\n",
              "\n",
              "          const docLinkHtml = 'Like what you see? Visit the ' +\n",
              "            '<a target=\"_blank\" href=https://colab.research.google.com/notebooks/data_table.ipynb>data table notebook</a>'\n",
              "            + ' to learn more about interactive tables.';\n",
              "          element.innerHTML = '';\n",
              "          dataTable['output_type'] = 'display_data';\n",
              "          await google.colab.output.renderOutput(dataTable, element);\n",
              "          const docLink = document.createElement('div');\n",
              "          docLink.innerHTML = docLinkHtml;\n",
              "          element.appendChild(docLink);\n",
              "        }\n",
              "      </script>\n",
              "    </div>\n",
              "  </div>\n",
              "  "
            ]
          },
          "metadata": {},
          "execution_count": 42
        }
      ]
    },
    {
      "cell_type": "markdown",
      "source": [
        "## 7 - APLICAÇÃO I: Calculando uma Conta de Restaurante\n",
        "\n",
        "Imagine que você está em um restaurante com um grupo de amigos e precisa calcular quanto você tem que pagar.\n",
        "\n",
        "Suponha que você consumiu sozinho itens com esses valores:\n",
        "- R\\$ 12,37\n",
        "- R\\$ 5,00\n",
        "- R\\$ 10,10\n",
        "\n",
        "E você dividiu um prato com três amigos de valor *R$ 105,72*.\n",
        "\n",
        "Lembre-se de acrescentar os 10%."
      ],
      "metadata": {
        "id": "f3l43h0e0XoL"
      }
    },
    {
      "cell_type": "code",
      "source": [
        "consumo_individual = 12.37 + 5.00 + 10.10"
      ],
      "metadata": {
        "id": "BL-d6EgH0U3e"
      },
      "execution_count": null,
      "outputs": []
    },
    {
      "cell_type": "code",
      "source": [
        "prato_dividido = 105.72 / 3"
      ],
      "metadata": {
        "id": "29rA73JC1lAB"
      },
      "execution_count": null,
      "outputs": []
    },
    {
      "cell_type": "code",
      "source": [
        "resultado = (consumo_individual + prato_dividido) * 1.10\n",
        "print(\"Você deve pagar:\", resultado)"
      ],
      "metadata": {
        "colab": {
          "base_uri": "https://localhost:8080/"
        },
        "id": "0O57XzWR16Hc",
        "outputId": "dffdf80c-ce03-45e4-b66d-bc2829c0b288"
      },
      "execution_count": null,
      "outputs": [
        {
          "output_type": "stream",
          "name": "stdout",
          "text": [
            "Você deve pagar: 68.98100000000001\n"
          ]
        }
      ]
    },
    {
      "cell_type": "markdown",
      "source": [
        ""
      ],
      "metadata": {
        "id": "KvjAcEzNoqGU"
      }
    },
    {
      "cell_type": "markdown",
      "source": [
        "## 8 - APLICAÇÃO II: Calculando Juros\n",
        "\n",
        "Calculando quanto você pagaria de juros no cheque especial, após alguns meses.\n",
        "\n",
        "Fazer de forma interativa, lendo os dados com `input()`."
      ],
      "metadata": {
        "id": "pY1xyv1No5xs"
      }
    },
    {
      "cell_type": "code",
      "source": [
        "texto_digitado = input(\"Digite o percentual de juros do cheque especial do seu banco: \")\n",
        "juros = float(texto_digitado)\n",
        "\n",
        "texto_digitado = input(\"Quantos meses está usando o limite do cheque especial? \")\n",
        "meses = int(texto_digitado)"
      ],
      "metadata": {
        "colab": {
          "base_uri": "https://localhost:8080/"
        },
        "id": "rJtF1Qj0pHch",
        "outputId": "0c5d17e3-fd4a-404c-a2d3-8d8ee934a816"
      },
      "execution_count": null,
      "outputs": [
        {
          "name": "stdout",
          "output_type": "stream",
          "text": [
            "Digite o percentual de juros do cheque especial do seu banco: 12.5\n",
            "Quantos meses está usando o limite do cheque especial? 4\n"
          ]
        }
      ]
    },
    {
      "cell_type": "code",
      "source": [
        "texto_digitado = input(\"Quanto você devia inicialmente no cheque especial? \")\n",
        "valor = float(texto_digitado)"
      ],
      "metadata": {
        "colab": {
          "base_uri": "https://localhost:8080/"
        },
        "id": "TKTrp0WBGNIt",
        "outputId": "61792596-f8a7-47fd-ada0-2904b90a3be3"
      },
      "execution_count": null,
      "outputs": [
        {
          "name": "stdout",
          "output_type": "stream",
          "text": [
            "Quanto você devia inicialmente no cheque especial? 100.31\n"
          ]
        }
      ]
    },
    {
      "cell_type": "code",
      "source": [
        "print(\"Valor\", valor)\n",
        "print(\"Juros (percentual)\", juros)\n",
        "print(\"Meses\", meses)"
      ],
      "metadata": {
        "colab": {
          "base_uri": "https://localhost:8080/"
        },
        "id": "g4qF9bswpPW-",
        "outputId": "8ceced8c-70be-4fd1-b6be-cbc54a1dfc96"
      },
      "execution_count": null,
      "outputs": [
        {
          "output_type": "stream",
          "name": "stdout",
          "text": [
            "Valor 100.31\n",
            "Juros (percentual) 12.5\n",
            "Meses 4\n"
          ]
        }
      ]
    },
    {
      "cell_type": "code",
      "source": [
        "juros = juros/100"
      ],
      "metadata": {
        "id": "CgS0zxMoG48q"
      },
      "execution_count": null,
      "outputs": []
    },
    {
      "cell_type": "code",
      "source": [
        "print(\"Juros na forma decimal (de 0.0 a 1.0):\", juros)"
      ],
      "metadata": {
        "colab": {
          "base_uri": "https://localhost:8080/"
        },
        "id": "Lk_XxFthG777",
        "outputId": "800d7804-00b6-4117-c8bb-897c238c9b12"
      },
      "execution_count": null,
      "outputs": [
        {
          "output_type": "stream",
          "name": "stdout",
          "text": [
            "Juros na forma decimal (de 0.0 a 1.0): 0.125\n"
          ]
        }
      ]
    },
    {
      "cell_type": "markdown",
      "source": [
        "Relembrando a fórmula de juros compostos:\n",
        "- $ valor\\_final = valor\\_inicial \\times (1.0 + juros)^{tempo} $\n",
        "\n",
        "O código abaixo faz exatamente este cálculo:"
      ],
      "metadata": {
        "id": "nSdptLzgHxCM"
      }
    },
    {
      "cell_type": "code",
      "source": [
        "valor_final = valor * (1.0 + juros) ** meses"
      ],
      "metadata": {
        "id": "DvTfKce-GwVf"
      },
      "execution_count": null,
      "outputs": []
    },
    {
      "cell_type": "code",
      "source": [
        "print(\"VALOR FINAL DEVIDO:\")\n",
        "print(valor_final)"
      ],
      "metadata": {
        "colab": {
          "base_uri": "https://localhost:8080/"
        },
        "id": "ZxCpLsfTHdVZ",
        "outputId": "f34d7ebc-742a-41e2-ab04-267a566e41b4"
      },
      "execution_count": null,
      "outputs": [
        {
          "output_type": "stream",
          "name": "stdout",
          "text": [
            "VALOR FINAL DEVIDO:\n",
            "160.67722412109376\n"
          ]
        }
      ]
    }
  ]
}