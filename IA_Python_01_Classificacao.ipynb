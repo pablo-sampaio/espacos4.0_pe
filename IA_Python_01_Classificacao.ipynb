{
  "nbformat": 4,
  "nbformat_minor": 0,
  "metadata": {
    "colab": {
      "provenance": [],
      "collapsed_sections": [
        "_eQRs0ZLfgfq",
        "PvFSZGCUf2Z5",
        "7QIB1FJIUnPi",
        "ULB3IlXwgMrY"
      ],
      "authorship_tag": "ABX9TyPyK0PBO+a2hnxvJN9UAvW3"
    },
    "kernelspec": {
      "name": "python3",
      "display_name": "Python 3"
    },
    "language_info": {
      "name": "python"
    }
  },
  "cells": [
    {
      "cell_type": "markdown",
      "source": [
        "# Aprendizagem de Máquina - Parte 1\n"
      ],
      "metadata": {
        "id": "e6fcX3HDC9ja"
      }
    },
    {
      "cell_type": "markdown",
      "source": [
        "Neste notebook, vamos aprender a criar modelos de **classificação**, também chamamos de *classificadores* ou *reconhecedores*."
      ],
      "metadata": {
        "id": "gwA1Q8bnDdGn"
      }
    },
    {
      "cell_type": "markdown",
      "source": [
        "## 1 - Instalações Iniciais\n",
        "\n",
        "Esta célula faz instalações iniciais, no ambiente Colab. Faça assim:\n",
        "1. Execute as células desta seção.\n",
        "1. (**IMPORTANTE**) Depois vá no menu `Ambiente de Execução` $\\rightarrow$ `Reiniciar ambiente de execução`.\n",
        "1. Depois pode executar o restante."
      ],
      "metadata": {
        "id": "_eQRs0ZLfgfq"
      }
    },
    {
      "cell_type": "code",
      "execution_count": null,
      "metadata": {
        "id": "v8Kip0l6O8kn"
      },
      "outputs": [],
      "source": [
        "!pip install numpy==1.21.2 scipy scikit-learn==1.0 matplotlib==3.4.3 pandas==1.3.2 importlib-metadata==4.13"
      ]
    },
    {
      "cell_type": "markdown",
      "source": [
        "**Atenção**: Depois de instalar, reinicie o ambiente!\n",
        "\n",
        "Vá no menu `Ambiente de Execução -> Reiniciar ambiente de execução`"
      ],
      "metadata": {
        "id": "RpjrfMyOzeTQ"
      }
    },
    {
      "cell_type": "markdown",
      "source": [
        "## 2 - Definições Auxiliares\n",
        "\n",
        "Não precisa entender o código dentro desta seção. Ele não é fundamental para usar modelos de aprendizagem de máquina."
      ],
      "metadata": {
        "id": "7QIB1FJIUnPi"
      }
    },
    {
      "cell_type": "markdown",
      "source": [
        "### 2.1 - Importando Módulos\n"
      ],
      "metadata": {
        "id": "eANOp0L_gEYA"
      }
    },
    {
      "cell_type": "markdown",
      "source": [
        "Primeiro, importamos alguns dos módulos, usados nas definições. Outros serão importantos ao longo deste notebook."
      ],
      "metadata": {
        "id": "ICMW92ZkepYB"
      }
    },
    {
      "cell_type": "code",
      "source": [
        "import matplotlib.pyplot as plt\n",
        "import numpy as np\n",
        "from matplotlib.colors import ListedColormap\n",
        "import pandas as pd"
      ],
      "metadata": {
        "id": "DrbFU1BpfDxn"
      },
      "execution_count": null,
      "outputs": []
    },
    {
      "cell_type": "markdown",
      "source": [
        "### 2.2 - Funções Auxiliares"
      ],
      "metadata": {
        "id": "ULB3IlXwgMrY"
      }
    },
    {
      "cell_type": "markdown",
      "source": [
        "Definimos duas funções auxiliares, de propósito didático: `plot_decision_regions` e `dataset_to_dataframe`.\n",
        "\n",
        "A primeira delas, definida logo abaixo, exibe o conjunto de exemplos visualmente. Ela assume que cada exemplo tem apenas *dois* atributos de entrada. Eles serão tratados como coordenadas no plano cartesiano e, assim, cada exemplo, será representado como um *ponto*. A classe de cada dado define o formato (geométrico) do ponto."
      ],
      "metadata": {
        "id": "RCICN5xWejUj"
      }
    },
    {
      "cell_type": "code",
      "source": [
        "# baseada em\n",
        "def plot_decision_regions(X_train, y_train, classifier, X_test=None, y_test=None, resolution=0.02):\n",
        "    if X_test is not None:\n",
        "       X = np.vstack((X_train, X_test))\n",
        "       y = np.hstack((y_train, y_test))\n",
        "\n",
        "    # setup marker generator and color map\n",
        "    markers = ('o', 's', '^', 'v', '<')\n",
        "    colors = ('red', 'blue', 'lightgreen', 'gray', 'cyan')\n",
        "    cmap = ListedColormap(colors[:len(np.unique(y))])\n",
        "\n",
        "    # plot the decision surface\n",
        "    x1_min, x1_max = X[:, 0].min() - 1, X[:, 0].max() + 1\n",
        "    x2_min, x2_max = X[:, 1].min() - 1, X[:, 1].max() + 1\n",
        "    xx1, xx2 = np.meshgrid(np.arange(x1_min, x1_max, resolution),\n",
        "                           np.arange(x2_min, x2_max, resolution))\n",
        "    lab = classifier.predict(np.array([xx1.ravel(), xx2.ravel()]).T)\n",
        "    lab = lab.reshape(xx1.shape)\n",
        "    plt.contourf(xx1, xx2, lab, alpha=0.3, cmap=cmap)\n",
        "    plt.xlim(xx1.min(), xx1.max())\n",
        "    plt.ylim(xx2.min(), xx2.max())\n",
        "\n",
        "    # plot class examples\n",
        "    for idx, cl in enumerate(np.unique(y)):\n",
        "        plt.scatter(x=X[y == cl, 0],\n",
        "                    y=X[y == cl, 1],\n",
        "                    alpha=0.8,\n",
        "                    c=colors[idx],\n",
        "                    marker=markers[idx],\n",
        "                    label=f'Class {cl}',\n",
        "                    edgecolor='black')\n",
        "\n",
        "    # highlight test examples\n",
        "    if X_test is not None:\n",
        "        # plot all examples\n",
        "        plt.scatter(X_test[:, 0],\n",
        "                    X_test[:, 1],\n",
        "                    c='none',\n",
        "                    edgecolor='black',\n",
        "                    alpha=1.0,\n",
        "                    linewidth=1,\n",
        "                    marker='o',\n",
        "                    s=100,\n",
        "                    label='Test set')"
      ],
      "metadata": {
        "id": "leHcb0ytWvEt"
      },
      "execution_count": null,
      "outputs": []
    },
    {
      "cell_type": "markdown",
      "source": [
        "A segunda função recebe um `dataset` de classificação carregado pelo scikit-learn e devolve um dado do tipo `DataFrame`, para ser exibido como uma tabela detalhada (com índices nas linhas, títulos nas colunas), contendo os atributos de entrada e o de saída."
      ],
      "metadata": {
        "id": "pFgaxKDpVzHZ"
      }
    },
    {
      "cell_type": "code",
      "source": [
        "def dataset_to_dataframe(sklearn_dataset):\n",
        "    df = pd.DataFrame(sklearn_dataset.data, columns=sklearn_dataset.feature_names)\n",
        "    df['target'] = sklearn_dataset.target\n",
        "    df['target_name'] = df['target'].apply( lambda y : sklearn_dataset.target_names[y] )\n",
        "    return df\n"
      ],
      "metadata": {
        "id": "xsbf97JPoi3r"
      },
      "execution_count": null,
      "outputs": []
    },
    {
      "cell_type": "markdown",
      "source": [
        "## 3 - Carregando e Preparando um Conjunto de Dados"
      ],
      "metadata": {
        "id": "ctlcgXm2gf8I"
      }
    },
    {
      "cell_type": "markdown",
      "source": [
        "Vamos usar o conjunto **Iris**, que já foi explicado na aula de Scratch. O scikit-learn oferece uma função para carregá-lo diretamente."
      ],
      "metadata": {
        "id": "nO4BbbrKgqSP"
      }
    },
    {
      "cell_type": "code",
      "source": [
        "from sklearn import datasets\n",
        "\n",
        "iris = datasets.load_iris()\n",
        "print(iris['DESCR'])"
      ],
      "metadata": {
        "id": "_FrkT5pXVzE9"
      },
      "execution_count": null,
      "outputs": []
    },
    {
      "cell_type": "markdown",
      "source": [
        "Abaixo, convertemos para uma tabela do tipo `DataFrame` (do módulo `pandas`), apenas para visualização.\n",
        "\n",
        "Não vamos trabalhar com os dados desta forma!"
      ],
      "metadata": {
        "id": "K76CC9KVMNGt"
      }
    },
    {
      "cell_type": "code",
      "source": [
        "dataset_to_dataframe(iris)"
      ],
      "metadata": {
        "id": "VR6OY-RNNqMG"
      },
      "execution_count": null,
      "outputs": []
    },
    {
      "cell_type": "markdown",
      "source": [
        "### 3.1 - Explorando as informações do dataset:"
      ],
      "metadata": {
        "id": "A4NQh_kM0NMS"
      }
    },
    {
      "cell_type": "markdown",
      "source": [
        "Vamos acessar cada informação a partir da variável `iris`. Abaixo mostramos as informações disponíveis, que são acessadas por certas *chaves* (ingl.: *keys*):"
      ],
      "metadata": {
        "id": "3m1jW9cONcFQ"
      }
    },
    {
      "cell_type": "code",
      "source": [
        "print(\"Informações (chaves) do dataset:\")\n",
        "print(iris.keys())"
      ],
      "metadata": {
        "id": "NlXjtvphNii9"
      },
      "execution_count": null,
      "outputs": []
    },
    {
      "cell_type": "markdown",
      "source": [
        "Por exemplo, vamos acessar a chave `data` dentro da variável `iris`. Ela contém todos os exemplos, mas somente com os atributos de entrada. É como uma tabela, mas dada de forma bruta (sem colunas, nem linhas de título, por exemplo)."
      ],
      "metadata": {
        "id": "3ekFnEgYRaBT"
      }
    },
    {
      "cell_type": "code",
      "source": [
        "print(iris.data)"
      ],
      "metadata": {
        "id": "gAZjd5qzGbOk"
      },
      "execution_count": null,
      "outputs": []
    },
    {
      "cell_type": "markdown",
      "source": [
        "Os atributos de saída (ou atributos alvos) correspondentes ficam na chave `target` (trad.: alvo)."
      ],
      "metadata": {
        "id": "96sAsrVWRpBC"
      }
    },
    {
      "cell_type": "code",
      "source": [
        "print(iris.target)"
      ],
      "metadata": {
        "id": "zu92aO5umq_B"
      },
      "execution_count": null,
      "outputs": []
    },
    {
      "cell_type": "markdown",
      "source": [
        "Os nomes das colunas ficam no atributo `feature_names` (trad.: nomes das características ou nomes dos atributos)."
      ],
      "metadata": {
        "id": "MWMzwpQwSHCS"
      }
    },
    {
      "cell_type": "code",
      "source": [
        "iris.feature_names"
      ],
      "metadata": {
        "id": "aXGcf6psnY3P"
      },
      "execution_count": null,
      "outputs": []
    },
    {
      "cell_type": "markdown",
      "source": [
        "Se passarmos um índice, acessamos uma linha dos dados. Ou seja, um dos exemplos de treinamento (só os atributos de entrada dele). Abaixo, acessamos a primeira linha (índice 0)."
      ],
      "metadata": {
        "id": "QK55rnQ7SWfl"
      }
    },
    {
      "cell_type": "code",
      "source": [
        "iris.data[0]"
      ],
      "metadata": {
        "id": "dNN1FT4BmmLB"
      },
      "execution_count": null,
      "outputs": []
    },
    {
      "cell_type": "markdown",
      "source": [
        "Para acessar, no primeiro exemplo (índice 0), o terceiro atributo dele (índice 2), fornecemos os dois índices na ordem `linha,coluna`:"
      ],
      "metadata": {
        "id": "jZyQb6qxSlsO"
      }
    },
    {
      "cell_type": "code",
      "source": [
        "#outra forma: iris.data[0][2]\n",
        "iris.data[0,2]"
      ],
      "metadata": {
        "id": "Ap-4jF5Pt8Ti"
      },
      "execution_count": null,
      "outputs": []
    },
    {
      "cell_type": "markdown",
      "source": [
        "Para acessar não um elemento (linha ou coluna), mas uma sequência deles, ao invés de um valor único de índice, usamos `:` da forma abaixo:\n",
        "```\n",
        "     índice_de_início:índice_de_fim(exclusivo)\n",
        "```\n",
        "\n",
        "Por exemplo, para acessar as linhas **de 0 a 5** (sem incluir o 5), fazemos assim:"
      ],
      "metadata": {
        "id": "XbLqPnC6TNSq"
      }
    },
    {
      "cell_type": "code",
      "source": [
        "iris.data[0:5]  # linhas dos indices 0 a 4"
      ],
      "metadata": {
        "id": "enND9g0nMD16"
      },
      "execution_count": null,
      "outputs": []
    },
    {
      "cell_type": "markdown",
      "source": [
        "E para acessar, na linha 0, as colunas **de 2 a 4** (sem incluir o 4), fazemos assim:"
      ],
      "metadata": {
        "id": "yL722WP6UBfq"
      }
    },
    {
      "cell_type": "code",
      "source": [
        "iris.data[0, 2:4]"
      ],
      "metadata": {
        "id": "VzvOqhTAtyzi"
      },
      "execution_count": null,
      "outputs": []
    },
    {
      "cell_type": "markdown",
      "source": [
        "Para acessar todas as colunas da linha 0, você ambém pode deixar só `:` sem início nem fim:"
      ],
      "metadata": {
        "id": "edr4PoBTXaS7"
      }
    },
    {
      "cell_type": "code",
      "source": [
        "iris.data[0, :]"
      ],
      "metadata": {
        "id": "-Gx0FMz1XiGN"
      },
      "execution_count": null,
      "outputs": []
    },
    {
      "cell_type": "markdown",
      "source": [
        "Explorando as saídas correspondentes exemplos:"
      ],
      "metadata": {
        "id": "LKRj_HYd0QtY"
      }
    },
    {
      "cell_type": "code",
      "source": [
        "iris.target"
      ],
      "metadata": {
        "id": "1ZM0D9160Iqr"
      },
      "execution_count": null,
      "outputs": []
    },
    {
      "cell_type": "markdown",
      "source": [
        "Por exemplo, esta é a saída referente ao primeiro exemplo de entrada (que acessamos como `iris.data[0]`):"
      ],
      "metadata": {
        "id": "romStQtkWtea"
      }
    },
    {
      "cell_type": "code",
      "source": [
        "iris.target[0]"
      ],
      "metadata": {
        "id": "w8iyMbrAWs0o"
      },
      "execution_count": null,
      "outputs": []
    },
    {
      "cell_type": "markdown",
      "source": [
        "As classes (saídas/alvos) estão representadas como números de 0 a 2. Mas quer saber o que esses números representam? Vamos acessar a chave `target_names` (nomes dos alvos):"
      ],
      "metadata": {
        "id": "zL5qadJVW5rR"
      }
    },
    {
      "cell_type": "code",
      "source": [
        "print(iris.target_names)"
      ],
      "metadata": {
        "id": "KVcpGey00EMp"
      },
      "execution_count": null,
      "outputs": []
    },
    {
      "cell_type": "markdown",
      "source": [
        "### 3.2 - Criando Variáveis de Entrada (x) e Saída (y)"
      ],
      "metadata": {
        "id": "NlGxYlxGMd9m"
      }
    },
    {
      "cell_type": "markdown",
      "source": [
        "Agora, vamos preparar os dados na forma que vamos usar no treinamento. Vamos usar essas varáveis:\n",
        "- `x` representa os exemplos de **entradas**\n",
        "- `y` representa os exemplos de **saídas**\n",
        "\n",
        "Como entradas (`x`), poderíamos usar todo o `iris.data`. Mas vamos selecionar apenas 2 colunas, porque permite visualizar e permite criar bons modelos."
      ],
      "metadata": {
        "id": "E4dWinJg0Z1x"
      }
    },
    {
      "cell_type": "code",
      "source": [
        "# pega todas as linhas dos dados de entrada\n",
        "# mas somente da coluna de índice 2 até a coluna antes do índice 4\n",
        "x = iris.data[:, 2:4]"
      ],
      "metadata": {
        "id": "2rxhojXImeyo"
      },
      "execution_count": null,
      "outputs": []
    },
    {
      "cell_type": "code",
      "source": [
        "x"
      ],
      "metadata": {
        "id": "-kyX55OqkTOn"
      },
      "execution_count": null,
      "outputs": []
    },
    {
      "cell_type": "code",
      "source": [
        "# pega exatamente todos os valores de saídas\n",
        "y = iris.target"
      ],
      "metadata": {
        "id": "fw0qeQHBXyJT"
      },
      "execution_count": null,
      "outputs": []
    },
    {
      "cell_type": "code",
      "source": [
        "y"
      ],
      "metadata": {
        "id": "q1ObGYvNk4Jw"
      },
      "execution_count": null,
      "outputs": []
    },
    {
      "cell_type": "markdown",
      "source": [
        "Abaixo, detalhamos o exemplo do índice 100 (que é a posição 101). Em `x`, vemos os valores dos seus atributos de entradas. Em `y`, vemos a classe de saída."
      ],
      "metadata": {
        "id": "abQKsJufX7Ze"
      }
    },
    {
      "cell_type": "code",
      "source": [
        "x[100]"
      ],
      "metadata": {
        "id": "v2j5eye1HcHr"
      },
      "execution_count": null,
      "outputs": []
    },
    {
      "cell_type": "code",
      "source": [
        "y[100]"
      ],
      "metadata": {
        "id": "6Nn174kUHee1"
      },
      "execution_count": null,
      "outputs": []
    },
    {
      "cell_type": "markdown",
      "source": [
        "Os tamanhos de `x` e `y` devem ser iguais e indicam a quantidade de exemplos do conjunto de dados."
      ],
      "metadata": {
        "id": "d9-1YgRoYZLZ"
      }
    },
    {
      "cell_type": "code",
      "source": [
        "len(x)"
      ],
      "metadata": {
        "id": "pNPvasVPH2Iz"
      },
      "execution_count": null,
      "outputs": []
    },
    {
      "cell_type": "code",
      "source": [
        "len(y)"
      ],
      "metadata": {
        "id": "VG7y9UirYWMX"
      },
      "execution_count": null,
      "outputs": []
    },
    {
      "cell_type": "markdown",
      "source": [
        "### 3.3 - Dividindo em Dados de Treino e de Teste"
      ],
      "metadata": {
        "id": "rloIkBgJhXdv"
      }
    },
    {
      "cell_type": "code",
      "source": [
        "from sklearn.model_selection import train_test_split  # dividir/repartir teste e treino\n"
      ],
      "metadata": {
        "id": "OcnjyZRGWN-U"
      },
      "execution_count": null,
      "outputs": []
    },
    {
      "cell_type": "markdown",
      "source": [
        "A função train_test_split divide os dados (entradas `x` e saídas `y`) em **dados de treinamento** e **dados de teste**, retornando quatro resultados:\n",
        "*   entradas e saídas de treinamento\n",
        "*   entradas e saídas de teste\n",
        "\n",
        "A proporção dos dados de teste é indicada pelo parâmetro `test_size`.\n",
        "\n"
      ],
      "metadata": {
        "id": "YONelKsy1Fiw"
      }
    },
    {
      "cell_type": "code",
      "source": [
        "# chamando a função train_test_split\n",
        "# e recebendo seus quatro resultados em quatro variáveis\n",
        "x_train, x_test, y_train, y_test = train_test_split(x, y, test_size=0.3, random_state=8, stratify=y)"
      ],
      "metadata": {
        "id": "1sHz4ChJ1E1b"
      },
      "execution_count": null,
      "outputs": []
    },
    {
      "cell_type": "markdown",
      "source": [
        "Quantos exemplos de treinamento foram escolhidos?"
      ],
      "metadata": {
        "id": "0UvqSK1tY-cF"
      }
    },
    {
      "cell_type": "code",
      "source": [
        "len(x_train)  # deve ser igual ao len(y_train)"
      ],
      "metadata": {
        "id": "XR2En0pnwOGJ"
      },
      "execution_count": null,
      "outputs": []
    },
    {
      "cell_type": "code",
      "source": [
        "x_train[0]"
      ],
      "metadata": {
        "id": "pQ2-oMMdI5Oi"
      },
      "execution_count": null,
      "outputs": []
    },
    {
      "cell_type": "markdown",
      "source": [
        "E quantos exemplos de teste?"
      ],
      "metadata": {
        "id": "bn1W1SD7ZCS5"
      }
    },
    {
      "cell_type": "code",
      "source": [
        "len(x_test)  # tem que ser igual a len(y_test)"
      ],
      "metadata": {
        "id": "1NmU-DF-08-o"
      },
      "execution_count": null,
      "outputs": []
    },
    {
      "cell_type": "code",
      "source": [
        "x_test[0]"
      ],
      "metadata": {
        "id": "hYVmjA9DJBu9"
      },
      "execution_count": null,
      "outputs": []
    },
    {
      "cell_type": "markdown",
      "source": [
        "## 4 - Treinando uma Árvore de Decisão"
      ],
      "metadata": {
        "id": "xwEDnNbAhiI5"
      }
    },
    {
      "cell_type": "code",
      "source": [
        "from sklearn.tree import DecisionTreeClassifier, plot_tree"
      ],
      "metadata": {
        "id": "2-LBKnN3ho-X"
      },
      "execution_count": null,
      "outputs": []
    },
    {
      "cell_type": "markdown",
      "source": [
        "É bem simples, basta iniciar e chamar `fit` passando as entradas e as saídas corretas correspondentes."
      ],
      "metadata": {
        "id": "3DgtauEzZz9X"
      }
    },
    {
      "cell_type": "code",
      "source": [
        "tree_model = DecisionTreeClassifier()"
      ],
      "metadata": {
        "id": "neY05muTll5g"
      },
      "execution_count": null,
      "outputs": []
    },
    {
      "cell_type": "code",
      "source": [
        "tree_model.fit(x_train, y_train)"
      ],
      "metadata": {
        "id": "bhAmisiwVxy1"
      },
      "execution_count": null,
      "outputs": []
    },
    {
      "cell_type": "markdown",
      "source": [
        "### 4.1 - Usando o Modelo Treinado\n",
        "\n",
        "Código para testar só um exemplo de entrada específica.\n",
        "\n",
        "Primeiro, vamos ver os valores dos atributos na **sexta linha** (índice 5) dos exemplos de teste."
      ],
      "metadata": {
        "id": "-hVH1fWoiA62"
      }
    },
    {
      "cell_type": "code",
      "source": [
        "print(x_test[5])"
      ],
      "metadata": {
        "id": "NtNR7ZSjikb_"
      },
      "execution_count": null,
      "outputs": []
    },
    {
      "cell_type": "markdown",
      "source": [
        "E a classe de saída dele informada no conjunto de dados:"
      ],
      "metadata": {
        "id": "L32zBKSMZQmY"
      }
    },
    {
      "cell_type": "code",
      "source": [
        "print(y_test[5])"
      ],
      "metadata": {
        "id": "5_bnbPpvLBZy"
      },
      "execution_count": null,
      "outputs": []
    },
    {
      "cell_type": "markdown",
      "source": [
        "Agora, vamos preparar um exemplo parecido (quase igual), passar para o modelo e imprimir o resultado:"
      ],
      "metadata": {
        "id": "O6OfuS9KZbNY"
      }
    },
    {
      "cell_type": "code",
      "source": [
        "entrada = [ [4.4, 1.4] ]\n",
        "saida_prevista = tree_model.predict( entrada )\n",
        "print(saida_prevista)"
      ],
      "metadata": {
        "id": "E3hxy3ZliDk_"
      },
      "execution_count": null,
      "outputs": []
    },
    {
      "cell_type": "markdown",
      "source": [
        "Para mandar o modelo fazer a previsão de todas as entradas de teste (`x_test`):"
      ],
      "metadata": {
        "id": "nz9e5SLjiEBe"
      }
    },
    {
      "cell_type": "code",
      "source": [
        "y_previsto_arvore = tree_model.predict(x_test)\n",
        "y_previsto_arvore"
      ],
      "metadata": {
        "id": "cpo9GyZqecb_"
      },
      "execution_count": null,
      "outputs": []
    },
    {
      "cell_type": "markdown",
      "source": [
        "### 4.2 - Comparando com as Saídas Reais\n",
        "\n",
        "Vamos comparar com as saídas corretas dos dados de teste."
      ],
      "metadata": {
        "id": "FrhocjWei30h"
      }
    },
    {
      "cell_type": "code",
      "source": [
        "y_test"
      ],
      "metadata": {
        "id": "uVxbY3FmepI2"
      },
      "execution_count": null,
      "outputs": []
    },
    {
      "cell_type": "markdown",
      "source": [
        "É fácil fazer a comparação elemento por elemento, para ver se nosso modelo acertou tudo:"
      ],
      "metadata": {
        "id": "yttFDI8IaEeg"
      }
    },
    {
      "cell_type": "code",
      "source": [
        "sum(y_previsto_arvore == y_test) / len(y_test)"
      ],
      "metadata": {
        "id": "YnHad6I7ylto"
      },
      "execution_count": null,
      "outputs": []
    },
    {
      "cell_type": "markdown",
      "source": [
        "### 4.3 Visualizando o Espaço de Entradas"
      ],
      "metadata": {
        "id": "MzmU7tIPJHYW"
      }
    },
    {
      "cell_type": "markdown",
      "source": [
        "Abaixo, vamos mostrar uma figura que apresentada todos os exemplos (de treinamento e de teste) como pontos assim:\n",
        "- os dois atributos de entrada são usados como coordenadas do ponto\n",
        "- as classes (0, 1 e 2) definem o desenho geométrico de cada ponto\n",
        "- as amostras de teste têm, a mais, um círculo em volta dela\n",
        "- as cores de fundo mostram as regiões que o modelo aprendeu como sendo a região dos pontos de cada classe"
      ],
      "metadata": {
        "id": "6gbKXwGDaNY_"
      }
    },
    {
      "cell_type": "code",
      "source": [
        "plt.figure(figsize=(10,8))\n",
        "plot_decision_regions(x_train, y_train, tree_model, x_test, y_test)\n",
        "\n",
        "plt.xlabel('Petal length [cm]')\n",
        "plt.ylabel('Petal width [cm]')\n",
        "plt.legend(loc='upper left')\n",
        "plt.tight_layout()\n",
        "\n",
        "#plt.savefig('espaco_arvore_decisao', dpi=300)\n",
        "plt.show()"
      ],
      "metadata": {
        "id": "7ZwNXUm_Z8Me"
      },
      "execution_count": null,
      "outputs": []
    },
    {
      "cell_type": "markdown",
      "source": [
        "### 4.4 Visualizando o Modelo"
      ],
      "metadata": {
        "id": "M9-vcokLkvvS"
      }
    },
    {
      "cell_type": "markdown",
      "source": [
        "As árvores de decisão são um dos poucos modelos que oferecem uma opção de vizualização.\n",
        "\n",
        "Vamos ver a nossa árvore treinada? (Para entender, veja o material)."
      ],
      "metadata": {
        "id": "UdlLagwIa9Xh"
      }
    },
    {
      "cell_type": "code",
      "source": [
        "feature_names = ['Petal length', 'Petal width']\n",
        "\n",
        "plt.figure(figsize=(14,12))\n",
        "plot_tree(tree_model, feature_names=feature_names, filled=True)\n",
        "\n",
        "#plt.savefig('arvore_decisao_iris.pdf')\n",
        "plt.show()"
      ],
      "metadata": {
        "id": "HM6aE5Y_W5Eu"
      },
      "execution_count": null,
      "outputs": []
    },
    {
      "cell_type": "markdown",
      "source": [
        "## 5 - Treinando uma Random Forest (Floresta Aleatória)"
      ],
      "metadata": {
        "id": "9pNNPgBtve86"
      }
    },
    {
      "cell_type": "markdown",
      "source": [
        "Todo o processo para treinar outros modelos de classificação vai ser muito parecido. Só muda o nome dele e em qual submódulo do sklearn ele está (para você importar de lá)."
      ],
      "metadata": {
        "id": "jIU48mTbbJtf"
      }
    },
    {
      "cell_type": "code",
      "source": [
        "from sklearn.ensemble import RandomForestClassifier"
      ],
      "metadata": {
        "id": "gEtgS6PlvbW1"
      },
      "execution_count": null,
      "outputs": []
    },
    {
      "cell_type": "code",
      "source": [
        "floresta = RandomForestClassifier()"
      ],
      "metadata": {
        "id": "X-Psl77DnwXH"
      },
      "execution_count": null,
      "outputs": []
    },
    {
      "cell_type": "code",
      "source": [
        "floresta.fit(x_train, y_train)"
      ],
      "metadata": {
        "id": "ZX4e_RqMvzJQ"
      },
      "execution_count": null,
      "outputs": []
    },
    {
      "cell_type": "code",
      "source": [
        "y_previsto_floresta = floresta.predict(x_test)"
      ],
      "metadata": {
        "id": "lG54QtNlIi9B"
      },
      "execution_count": null,
      "outputs": []
    },
    {
      "cell_type": "code",
      "source": [
        "y_previsto_floresta"
      ],
      "metadata": {
        "id": "oCDHC6W3Oj1M"
      },
      "execution_count": null,
      "outputs": []
    },
    {
      "cell_type": "code",
      "source": [
        "sum(y_previsto_floresta == y_test) / len(y_test)"
      ],
      "metadata": {
        "id": "K-8Zyk4NI1O2"
      },
      "execution_count": null,
      "outputs": []
    },
    {
      "cell_type": "code",
      "source": [
        "plt.figure(figsize=(10,8))\n",
        "plot_decision_regions(x_train, y_train, floresta, x_test, y_test)\n",
        "\n",
        "plt.xlabel('Petal length')\n",
        "plt.ylabel('Petal width')\n",
        "plt.legend(loc='upper left')\n",
        "plt.tight_layout()\n",
        "\n",
        "plt.show()"
      ],
      "metadata": {
        "id": "4XpMKb1NI3a-"
      },
      "execution_count": null,
      "outputs": []
    },
    {
      "cell_type": "markdown",
      "source": [
        "## 6 - Treinando um Modelo KNN"
      ],
      "metadata": {
        "id": "rGSs0E59s4RX"
      }
    },
    {
      "cell_type": "code",
      "source": [
        "from sklearn.neighbors import KNeighborsClassifier"
      ],
      "metadata": {
        "id": "sbL8QiHws-Rx"
      },
      "execution_count": null,
      "outputs": []
    },
    {
      "cell_type": "code",
      "source": [
        "knn = KNeighborsClassifier()"
      ],
      "metadata": {
        "id": "v7A3eYLyoO5_"
      },
      "execution_count": null,
      "outputs": []
    },
    {
      "cell_type": "code",
      "source": [
        "knn.fit(x_train, y_train)"
      ],
      "metadata": {
        "id": "84fkxbyUtM7B"
      },
      "execution_count": null,
      "outputs": []
    },
    {
      "cell_type": "code",
      "source": [
        "y_previsto_knn = knn.predict(x_test)"
      ],
      "metadata": {
        "id": "cq6gu9LwtPGy"
      },
      "execution_count": null,
      "outputs": []
    },
    {
      "cell_type": "code",
      "source": [
        "sum(y_previsto_knn == y_test) / len(y_test)"
      ],
      "metadata": {
        "id": "jg-oGyVutXsZ"
      },
      "execution_count": null,
      "outputs": []
    },
    {
      "cell_type": "code",
      "source": [
        "plt.figure(figsize=(10,8))\n",
        "plot_decision_regions(x_train, y_train, knn, x_test, y_test)\n",
        "\n",
        "plt.xlabel('Petal length')\n",
        "plt.ylabel('Petal width')\n",
        "plt.legend(loc='upper left')\n",
        "plt.tight_layout()\n",
        "\n",
        "plt.show()"
      ],
      "metadata": {
        "id": "F_Bkl9lBs4tj"
      },
      "execution_count": null,
      "outputs": []
    },
    {
      "cell_type": "code",
      "source": [
        "# outro modelo para você testar\n",
        "#from sklearn.linear_model import LogisticRegression\n",
        "#logistic_regr = LogisticRegression()"
      ],
      "metadata": {
        "id": "EQoLHwnJtqKF"
      },
      "execution_count": null,
      "outputs": []
    },
    {
      "cell_type": "markdown",
      "source": [
        "## 7 - Avaliando os Modelos"
      ],
      "metadata": {
        "id": "7Xwk7TimcvPV"
      }
    },
    {
      "cell_type": "markdown",
      "source": [
        "Esta parte é relativamente complexa. Veja mais detalhes na aula (material ou vídeo)."
      ],
      "metadata": {
        "id": "AXM3WtjqbghQ"
      }
    },
    {
      "cell_type": "code",
      "source": [
        "from sklearn.metrics import confusion_matrix, classification_report"
      ],
      "metadata": {
        "id": "jhrCOb04cipG"
      },
      "execution_count": null,
      "outputs": []
    },
    {
      "cell_type": "markdown",
      "source": [
        "### 7.1 - Matriz de Confusão"
      ],
      "metadata": {
        "id": "I16LrloKFrsp"
      }
    },
    {
      "cell_type": "code",
      "source": [
        "print(confusion_matrix(y_test, y_previsto_arvore))"
      ],
      "metadata": {
        "id": "VpsO1SY5FkPW"
      },
      "execution_count": null,
      "outputs": []
    },
    {
      "cell_type": "code",
      "source": [
        "print(confusion_matrix(y_test, y_previsto_floresta))"
      ],
      "metadata": {
        "id": "kTU8wfyWO5gE"
      },
      "execution_count": null,
      "outputs": []
    },
    {
      "cell_type": "code",
      "source": [
        "print(confusion_matrix(y_test, y_previsto_knn))"
      ],
      "metadata": {
        "id": "XsPvkZo1PAuR"
      },
      "execution_count": null,
      "outputs": []
    },
    {
      "cell_type": "markdown",
      "source": [
        "### 7.2 - Relatórios com Métricas Diversas"
      ],
      "metadata": {
        "id": "eprXPa9kFxX3"
      }
    },
    {
      "cell_type": "code",
      "source": [
        "print(classification_report(y_test, y_previsto_arvore))"
      ],
      "metadata": {
        "id": "kN-j9G_cuyFD"
      },
      "execution_count": null,
      "outputs": []
    },
    {
      "cell_type": "code",
      "source": [
        "print(classification_report(y_test, y_previsto_floresta))"
      ],
      "metadata": {
        "id": "fPyRLzWQGGUT"
      },
      "execution_count": null,
      "outputs": []
    },
    {
      "cell_type": "code",
      "source": [
        "print(classification_report(y_test, y_previsto_knn))"
      ],
      "metadata": {
        "id": "xK3XMwRIPR5N"
      },
      "execution_count": null,
      "outputs": []
    },
    {
      "cell_type": "code",
      "source": [
        "#print(classification_report(y_test, y_previsto_knn, target_names=iris.target_names))"
      ],
      "metadata": {
        "id": "lRrpzrYpb0Hu"
      },
      "execution_count": null,
      "outputs": []
    },
    {
      "cell_type": "markdown",
      "source": [
        "## 8 - Treinando e Testando Outro Modelo em Poucas Linhas"
      ],
      "metadata": {
        "id": "sdx24J_RU5dB"
      }
    },
    {
      "cell_type": "markdown",
      "source": [
        "Nas linhas a seguir, vamos treinar um modelo chamado **regressão logística** (*logistic regression*). Apesar do nome, ele não faz regressão, faz classificação.\n",
        "\n",
        "Note que, após importar e criar o modelo, o processo de treinar, fazer previsões e testar é o mesmo de antes, e pode ser feito em poucas linhas."
      ],
      "metadata": {
        "id": "keWXd8tiXmap"
      }
    },
    {
      "cell_type": "code",
      "source": [
        "from sklearn.linear_model import LogisticRegression"
      ],
      "metadata": {
        "id": "PQ58sSW5U-P6"
      },
      "execution_count": null,
      "outputs": []
    },
    {
      "cell_type": "code",
      "source": [
        "logistic = LogisticRegression()\n",
        "\n",
        "logistic.fit(x_train, y_train)"
      ],
      "metadata": {
        "id": "KFyOjRGvVj77"
      },
      "execution_count": null,
      "outputs": []
    },
    {
      "cell_type": "code",
      "source": [
        "y_previsto_logi = logistic.predict(x_test)\n",
        "y_previsto_logi"
      ],
      "metadata": {
        "id": "tzwSYpIFVzEr"
      },
      "execution_count": null,
      "outputs": []
    },
    {
      "cell_type": "code",
      "source": [
        "print(classification_report(y_test, y_previsto_logi))"
      ],
      "metadata": {
        "id": "5_lBf6H5V_lS"
      },
      "execution_count": null,
      "outputs": []
    },
    {
      "cell_type": "markdown",
      "source": [
        "# Referências\n",
        "\n",
        "- Livro **\"Machine Learning with Pytorch and Scikit-Learn\"** (Raschka, Liu e Mirjalili, 2022)"
      ],
      "metadata": {
        "id": "IjegZDq7YJAJ"
      }
    }
  ]
}